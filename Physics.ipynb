{
 "cells": [
  {
   "cell_type": "code",
   "execution_count": null,
   "id": "d5bdb9fd",
   "metadata": {},
   "outputs": [],
   "source": [
    "import numpy as np\n",
    "import matplotlib.pyplot as plt\n",
    "from scipy.constants import mu_0\n",
    "\n",
    "data_H = [0, 50, 50, 50, 50, 50, 50, 50, 50, 50, 50, 50, 75, 100, 150, 200, 250, 300, 650, 950, 1500]\n",
    "data_B = [0, 0.15, 0.20, 0.25, 0.3, 0.35, 0.4, 0.45, 0.50, 0.55, 0.60, 0.65, 0.9, 1., 1.12, 1.2, 1.25, 1.3, 1.45, 1.5, 1.55]\n",
    "\n",
    "for x, y in zip(data_H, data_B):\n",
    "    plt.scatter(x, y)\n",
    "\n",
    "p = np.polyfit(data_B, data_H, 9)\n",
    "\n",
    "data_B_app = np.linspace(0, 1.6, 1600)\n",
    "data_H_app = np.polyval(p, data_B_app)\n",
    "\n",
    "plt.plot(data_H_app, data_B_app)\n",
    "plt.xlabel(\"H, A/м\")\n",
    "plt.ylabel(\"B, Тл\")\n",
    "\n",
    "data_mu = list(data_B_app / data_H_app / mu_0)\n",
    "max_mu = max(data_mu)\n",
    "print(\"Максимальная магнитная проницаемость:\", max_mu)\n",
    "print(\"Значение H:\", data_H_app[data_mu.index(max_mu)])\n",
    "\n",
    "plt.show()\n"
   ]
  },
  {
   "cell_type": "code",
   "execution_count": null,
   "id": "abc3b3c7",
   "metadata": {},
   "outputs": [],
   "source": []
  }
 ],
 "metadata": {
  "kernelspec": {
   "display_name": "Python 3",
   "language": "python",
   "name": "python3"
  },
  "language_info": {
   "codemirror_mode": {
    "name": "ipython",
    "version": 3
   },
   "file_extension": ".py",
   "mimetype": "text/x-python",
   "name": "python",
   "nbconvert_exporter": "python",
   "pygments_lexer": "ipython3",
   "version": "3.9.5"
  }
 },
 "nbformat": 4,
 "nbformat_minor": 5
}
